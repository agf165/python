{
 "cells": [
  {
   "cell_type": "code",
   "execution_count": 1,
   "id": "75cbf29b-be8e-40b6-bdd2-c24fb13da805",
   "metadata": {},
   "outputs": [
    {
     "name": "stdout",
     "output_type": "stream",
     "text": [
      "The game name is Rock, Paper, and Scissors\n"
     ]
    }
   ],
   "source": [
    "import random, sys\n",
    "\n",
    "print(\"The game name is Rock, Paper, and Scissors\")"
   ]
  },
  {
   "cell_type": "code",
   "execution_count": 3,
   "id": "6de1eb63-820e-4476-99f5-a2f6fbf85eec",
   "metadata": {},
   "outputs": [],
   "source": [
    "wins = 0\n",
    "losses = 0 \n",
    "ties = 0"
   ]
  },
  {
   "cell_type": "code",
   "execution_count": 7,
   "id": "8185a65c-41c5-4c2c-b893-1a2910784a60",
   "metadata": {},
   "outputs": [
    {
     "ename": "SyntaxError",
     "evalue": "expected ':' (333137087.py, line 9)",
     "output_type": "error",
     "traceback": [
      "\u001b[1;36m  Cell \u001b[1;32mIn[7], line 9\u001b[1;36m\u001b[0m\n\u001b[1;33m    if yourmove == 'q'\u001b[0m\n\u001b[1;37m                      ^\u001b[0m\n\u001b[1;31mSyntaxError\u001b[0m\u001b[1;31m:\u001b[0m expected ':'\n"
     ]
    }
   ],
   "source": [
    "while true:\n",
    "    print('how many times you win' + str(wins))\n",
    "    print('how many times you lose' + str(losses))\n",
    "    print('how many times you tie' +str(losses))\n",
    "\n",
    "while true:\n",
    "    print(\"Enter your movement: (r)ock (p)aper (s)cissors or (q) is quit\")\n",
    "    yourmove = input()\n",
    "    if yourmove == 'q'\n",
    "        sys.exit()\n",
    "    if yourmove == 'r' or yourmove = 'p' or yourmove = 's'\n",
    "        break\n",
    "    print('Type one of r,p,s, or q')\n",
    "\n",
    "    if yourmove == 'r':\n",
    "        print(\"Rock versus\")\n",
    "    elif yourmove == 'p':\n",
    "        print(\"Paper versus\")\n",
    "    elif yourmove == 's':\n",
    "        print(\"Scissors versus\")\n",
    "        \n",
    "randomnum = random.randint(1,3)\n",
    "\n",
    "if randimnum ==1:\n",
    "    computermove = 'r'\n",
    "    print(\"Computer move is r\")\n",
    "elif randomnum ==2:\n",
    "    computermove = 's'\n",
    "    print(\"Computer move is s\")\n",
    "elif randomnum ==3:\n",
    "    computermove = 'p'\n",
    "    print(\"Computer move is p\")\n",
    "\n",
    "\n",
    "    "
   ]
  },
  {
   "cell_type": "code",
   "execution_count": null,
   "id": "f8fb063a-3eeb-4f73-82e3-a6a56a6316da",
   "metadata": {},
   "outputs": [],
   "source": []
  }
 ],
 "metadata": {
  "kernelspec": {
   "display_name": "Python [conda env:base] *",
   "language": "python",
   "name": "conda-base-py"
  },
  "language_info": {
   "codemirror_mode": {
    "name": "ipython",
    "version": 3
   },
   "file_extension": ".py",
   "mimetype": "text/x-python",
   "name": "python",
   "nbconvert_exporter": "python",
   "pygments_lexer": "ipython3",
   "version": "3.12.7"
  }
 },
 "nbformat": 4,
 "nbformat_minor": 5
}
