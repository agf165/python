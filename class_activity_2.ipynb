{
 "cells": [
  {
   "cell_type": "code",
   "execution_count": 3,
   "id": "bd74de68-e27f-40bb-81c0-27d9826bb0d3",
   "metadata": {},
   "outputs": [
    {
     "name": "stdout",
     "output_type": "stream",
     "text": [
      "True\n",
      "True\n",
      "False\n"
     ]
    }
   ],
   "source": [
    "print(42 == 42)\n",
    "print(42 != '42')\n",
    "print(42 == '42')"
   ]
  },
  {
   "cell_type": "code",
   "execution_count": 5,
   "id": "46707e6f-33b8-4170-8637-e8b96c40885f",
   "metadata": {},
   "outputs": [
    {
     "data": {
      "text/plain": [
       "False"
      ]
     },
     "execution_count": 5,
     "metadata": {},
     "output_type": "execute_result"
    }
   ],
   "source": [
    "(5<6) and (6<5)"
   ]
  },
  {
   "cell_type": "code",
   "execution_count": 7,
   "id": "e8fa3830-0678-4870-93ca-f402b2093eb6",
   "metadata": {},
   "outputs": [
    {
     "data": {
      "text/plain": [
       "True"
      ]
     },
     "execution_count": 7,
     "metadata": {},
     "output_type": "execute_result"
    }
   ],
   "source": [
    "(5<6) or (6<5)"
   ]
  },
  {
   "cell_type": "code",
   "execution_count": 9,
   "id": "77e150c3-d646-485e-8204-fe4611b6bfb3",
   "metadata": {},
   "outputs": [
    {
     "data": {
      "text/plain": [
       "False"
      ]
     },
     "execution_count": 9,
     "metadata": {},
     "output_type": "execute_result"
    }
   ],
   "source": [
    "(7<6) and (6<5)"
   ]
  },
  {
   "cell_type": "code",
   "execution_count": 28,
   "id": "9187e2c1-98b9-44be-a3dc-7a35f46f253f",
   "metadata": {},
   "outputs": [
    {
     "name": "stdin",
     "output_type": "stream",
     "text": [
      " apple\n"
     ]
    },
    {
     "name": "stdout",
     "output_type": "stream",
     "text": [
      "Enter your password\n",
      "ID is corrrect\n",
      "Password is not correct\n"
     ]
    }
   ],
   "source": [
    "ID = 'apple'\n",
    "Password = input()\n",
    "print(\"Enter your password\")\n",
    "\n",
    "if ID == 'apple':\n",
    "    print('ID is corrrect')\n",
    "    if Password == 'apple1':\n",
    "        print(\"Password is correct\")\n",
    "    else:\n",
    "        print(\"Password is not correct\")"
   ]
  },
  {
   "cell_type": "code",
   "execution_count": 40,
   "id": "6a467205-5a1b-4d3a-9845-6192488719d0",
   "metadata": {},
   "outputs": [
    {
     "name": "stdin",
     "output_type": "stream",
     "text": [
      " 100\n"
     ]
    },
    {
     "name": "stdout",
     "output_type": "stream",
     "text": [
      "Your score  100\n",
      "Your grade is A\n",
      "Your grade is B\n",
      "Your grdae is C\n"
     ]
    }
   ],
   "source": [
    "score = input()\n",
    "print(\"Your score \", score)\n",
    "\n",
    "score = int(score)\n",
    "\n",
    "if score > 90:\n",
    "    print(\"Your grade is A\")\n",
    "if score > 80:\n",
    "    print(\"Your grade is B\")\n",
    "if score > 70:\n",
    "    print(\"Your grdae is C\")\n",
    "else:\n",
    "    print(\"Your grade is D\")"
   ]
  },
  {
   "cell_type": "code",
   "execution_count": null,
   "id": "8febcc1a-dfb1-4efa-ab6f-cdf7081e4d75",
   "metadata": {},
   "outputs": [],
   "source": []
  },
  {
   "cell_type": "code",
   "execution_count": null,
   "id": "75e144e9-995f-4781-aa55-6583a75cdb78",
   "metadata": {},
   "outputs": [],
   "source": []
  }
 ],
 "metadata": {
  "kernelspec": {
   "display_name": "Python [conda env:base] *",
   "language": "python",
   "name": "conda-base-py"
  },
  "language_info": {
   "codemirror_mode": {
    "name": "ipython",
    "version": 3
   },
   "file_extension": ".py",
   "mimetype": "text/x-python",
   "name": "python",
   "nbconvert_exporter": "python",
   "pygments_lexer": "ipython3",
   "version": "3.12.7"
  }
 },
 "nbformat": 4,
 "nbformat_minor": 5
}
