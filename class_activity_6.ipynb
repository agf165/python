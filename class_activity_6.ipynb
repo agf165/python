{
 "cells": [
  {
   "cell_type": "code",
   "execution_count": 1,
   "id": "2326b898-0f62-46cd-91b4-a5655df90f9a",
   "metadata": {},
   "outputs": [
    {
     "ename": "SyntaxError",
     "evalue": "invalid syntax. Perhaps you forgot a comma? (3619336034.py, line 3)",
     "output_type": "error",
     "traceback": [
      "\u001b[1;36m  Cell \u001b[1;32mIn[1], line 3\u001b[1;36m\u001b[0m\n\u001b[1;33m    Traceback (most relevant call last):\u001b[0m\n\u001b[1;37m               ^\u001b[0m\n\u001b[1;31mSyntaxError\u001b[0m\u001b[1;31m:\u001b[0m invalid syntax. Perhaps you forgot a comma?\n"
     ]
    }
   ],
   "source": [
    ">>> spam = ['cat', 'bat', 'rat', 'elephant']\n",
    ">>> spam[10000]\n",
    "Traceback (most relevant call last):\n",
    "    File \"<pyshell#13>\". line 1, in <module>\n",
    "    spam[10000]\n",
    "IndexError: list index out of range"
   ]
  },
  {
   "cell_type": "code",
   "execution_count": 15,
   "id": "cf84a1d3-f366-438e-a15e-1b2a79cd53e2",
   "metadata": {},
   "outputs": [
    {
     "name": "stdout",
     "output_type": "stream",
     "text": [
      "Enter your pet type\n"
     ]
    },
    {
     "name": "stdin",
     "output_type": "stream",
     "text": [
      " fish\n"
     ]
    },
    {
     "name": "stdout",
     "output_type": "stream",
     "text": [
      "Yes, I have a pet type fish\n"
     ]
    }
   ],
   "source": [
    "mylist = ['cat', 'dog','rat']\n",
    "\n",
    "print(\"Enter your pet type\")\n",
    "\n",
    "name = input()\n",
    "\n",
    "if name not in mylist:\n",
    "    print(\"Yes, I have a pet type\", name)\n",
    "else: \n",
    "    print(\"No, I do not have a pet type.\")"
   ]
  },
  {
   "cell_type": "code",
   "execution_count": 17,
   "id": "bf4d4ac5-2b82-4570-8604-510ba0c97bd1",
   "metadata": {},
   "outputs": [
    {
     "name": "stderr",
     "output_type": "stream",
     "text": [
      "<>:6: SyntaxWarning: \"is\" with 'int' literal. Did you mean \"==\"?\n",
      "<>:7: SyntaxWarning: \"is\" with 'int' literal. Did you mean \"==\"?\n",
      "<>:8: SyntaxWarning: \"is\" with 'int' literal. Did you mean \"==\"?\n",
      "<>:6: SyntaxWarning: \"is\" with 'int' literal. Did you mean \"==\"?\n",
      "<>:7: SyntaxWarning: \"is\" with 'int' literal. Did you mean \"==\"?\n",
      "<>:8: SyntaxWarning: \"is\" with 'int' literal. Did you mean \"==\"?\n",
      "C:\\Users\\swapf\\AppData\\Local\\Temp\\ipykernel_42496\\3633331590.py:6: SyntaxWarning: \"is\" with 'int' literal. Did you mean \"==\"?\n",
      "  index is 0 and value is cat\n"
     ]
    },
    {
     "name": "stdout",
     "output_type": "stream",
     "text": [
      "index is 0 and value is cat\n",
      "index is 1 and value is dog\n",
      "index is 2 and value is rat\n"
     ]
    },
    {
     "name": "stderr",
     "output_type": "stream",
     "text": [
      "C:\\Users\\swapf\\AppData\\Local\\Temp\\ipykernel_42496\\3633331590.py:6: SyntaxWarning: \"is\" with 'int' literal. Did you mean \"==\"?\n",
      "  index is 0 and value is cat\n",
      "C:\\Users\\swapf\\AppData\\Local\\Temp\\ipykernel_42496\\3633331590.py:6: SyntaxWarning: \"is\" with 'int' literal. Did you mean \"==\"?\n",
      "  index is 0 and value is cat\n",
      "C:\\Users\\swapf\\AppData\\Local\\Temp\\ipykernel_42496\\3633331590.py:6: SyntaxWarning: \"is\" with 'int' literal. Did you mean \"==\"?\n",
      "  index is 0 and value is cat\n",
      "C:\\Users\\swapf\\AppData\\Local\\Temp\\ipykernel_42496\\3633331590.py:6: SyntaxWarning: \"is\" with 'int' literal. Did you mean \"==\"?\n",
      "  index is 0 and value is cat\n"
     ]
    },
    {
     "ename": "NameError",
     "evalue": "name 'index' is not defined",
     "output_type": "error",
     "traceback": [
      "\u001b[1;31m---------------------------------------------------------------------------\u001b[0m",
      "\u001b[1;31mNameError\u001b[0m                                 Traceback (most recent call last)",
      "Cell \u001b[1;32mIn[17], line 6\u001b[0m\n\u001b[0;32m      3\u001b[0m \u001b[38;5;28;01mfor\u001b[39;00m i \u001b[38;5;129;01min\u001b[39;00m \u001b[38;5;28mrange\u001b[39m(\u001b[38;5;28mlen\u001b[39m(mylist)):\n\u001b[0;32m      4\u001b[0m     \u001b[38;5;28mprint\u001b[39m(\u001b[38;5;124m'\u001b[39m\u001b[38;5;124mindex is\u001b[39m\u001b[38;5;124m'\u001b[39m, i, \u001b[38;5;124m'\u001b[39m\u001b[38;5;124mand\u001b[39m\u001b[38;5;124m'\u001b[39m, \u001b[38;5;124m'\u001b[39m\u001b[38;5;124mvalue is\u001b[39m\u001b[38;5;124m'\u001b[39m, mylist[i])\n\u001b[1;32m----> 6\u001b[0m index \u001b[38;5;129;01mis\u001b[39;00m \u001b[38;5;241m0\u001b[39m \u001b[38;5;129;01mand\u001b[39;00m value \u001b[38;5;129;01mis\u001b[39;00m cat\n\u001b[0;32m      7\u001b[0m index \u001b[38;5;129;01mis\u001b[39;00m \u001b[38;5;241m1\u001b[39m \u001b[38;5;129;01mand\u001b[39;00m value \u001b[38;5;129;01mis\u001b[39;00m dog\n\u001b[0;32m      8\u001b[0m index \u001b[38;5;129;01mis\u001b[39;00m \u001b[38;5;241m2\u001b[39m \u001b[38;5;129;01mand\u001b[39;00m value \u001b[38;5;129;01mis\u001b[39;00m rat\n",
      "\u001b[1;31mNameError\u001b[0m: name 'index' is not defined"
     ]
    }
   ],
   "source": [
    "mylist = ['cat','dog','rat']\n",
    "\n",
    "for i in range(len(mylist)):\n",
    "    print('index is', i, 'and', 'value is', mylist[i])\n",
    "\n",
    "index is 0 and value is cat\n",
    "index is 1 and value is dog\n",
    "index is 2 and value is rat\n",
    "\n"
   ]
  },
  {
   "cell_type": "code",
   "execution_count": 19,
   "id": "b17435cc-7686-4d68-b538-2c28b5b0e638",
   "metadata": {},
   "outputs": [
    {
     "ename": "SyntaxError",
     "evalue": "invalid syntax (3435143255.py, line 4)",
     "output_type": "error",
     "traceback": [
      "\u001b[1;36m  Cell \u001b[1;32mIn[19], line 4\u001b[1;36m\u001b[0m\n\u001b[1;33m    index 0 value is cat\u001b[0m\n\u001b[1;37m          ^\u001b[0m\n\u001b[1;31mSyntaxError\u001b[0m\u001b[1;31m:\u001b[0m invalid syntax\n"
     ]
    }
   ],
   "source": [
    "for index, item in enumerate(mylist):\n",
    "    print(\"index\", str(index), 'value is', item)\n",
    "\n",
    "index 0 value is cat\n",
    "index 1 value is dog\n",
    "index 2 value is rat"
   ]
  },
  {
   "cell_type": "code",
   "execution_count": 21,
   "id": "e3a1d1b2-03f4-4860-9d06-13f427b90ed7",
   "metadata": {},
   "outputs": [],
   "source": [
    "sumvalue = []\n",
    "\n",
    "for i in range(1,101):\n",
    "    sumvalue.append(i)"
   ]
  },
  {
   "cell_type": "code",
   "execution_count": 23,
   "id": "b1e9c56d-bf3e-483d-8397-41a2bef679c4",
   "metadata": {},
   "outputs": [
    {
     "data": {
      "text/plain": [
       "[1,\n",
       " 2,\n",
       " 3,\n",
       " 4,\n",
       " 5,\n",
       " 6,\n",
       " 7,\n",
       " 8,\n",
       " 9,\n",
       " 10,\n",
       " 11,\n",
       " 12,\n",
       " 13,\n",
       " 14,\n",
       " 15,\n",
       " 16,\n",
       " 17,\n",
       " 18,\n",
       " 19,\n",
       " 20,\n",
       " 21,\n",
       " 22,\n",
       " 23,\n",
       " 24,\n",
       " 25,\n",
       " 26,\n",
       " 27,\n",
       " 28,\n",
       " 29,\n",
       " 30,\n",
       " 31,\n",
       " 32,\n",
       " 33,\n",
       " 34,\n",
       " 35,\n",
       " 36,\n",
       " 37,\n",
       " 38,\n",
       " 39,\n",
       " 40,\n",
       " 41,\n",
       " 42,\n",
       " 43,\n",
       " 44,\n",
       " 45,\n",
       " 46,\n",
       " 47,\n",
       " 48,\n",
       " 49,\n",
       " 50,\n",
       " 51,\n",
       " 52,\n",
       " 53,\n",
       " 54,\n",
       " 55,\n",
       " 56,\n",
       " 57,\n",
       " 58,\n",
       " 59,\n",
       " 60,\n",
       " 61,\n",
       " 62,\n",
       " 63,\n",
       " 64,\n",
       " 65,\n",
       " 66,\n",
       " 67,\n",
       " 68,\n",
       " 69,\n",
       " 70,\n",
       " 71,\n",
       " 72,\n",
       " 73,\n",
       " 74,\n",
       " 75,\n",
       " 76,\n",
       " 77,\n",
       " 78,\n",
       " 79,\n",
       " 80,\n",
       " 81,\n",
       " 82,\n",
       " 83,\n",
       " 84,\n",
       " 85,\n",
       " 86,\n",
       " 87,\n",
       " 88,\n",
       " 89,\n",
       " 90,\n",
       " 91,\n",
       " 92,\n",
       " 93,\n",
       " 94,\n",
       " 95,\n",
       " 96,\n",
       " 97,\n",
       " 98,\n",
       " 99,\n",
       " 100]"
      ]
     },
     "execution_count": 23,
     "metadata": {},
     "output_type": "execute_result"
    }
   ],
   "source": [
    "sumvalue"
   ]
  },
  {
   "cell_type": "code",
   "execution_count": 25,
   "id": "ac148509-4dcc-4b69-8470-b07c0520f668",
   "metadata": {},
   "outputs": [
    {
     "data": {
      "text/plain": [
       "5050"
      ]
     },
     "execution_count": 25,
     "metadata": {},
     "output_type": "execute_result"
    }
   ],
   "source": [
    "sum(sumvalue)"
   ]
  },
  {
   "cell_type": "code",
   "execution_count": null,
   "id": "802f7b3c-9aad-411b-89ec-b9ad37d71b2e",
   "metadata": {},
   "outputs": [],
   "source": []
  }
 ],
 "metadata": {
  "kernelspec": {
   "display_name": "Python [conda env:base] *",
   "language": "python",
   "name": "conda-base-py"
  },
  "language_info": {
   "codemirror_mode": {
    "name": "ipython",
    "version": 3
   },
   "file_extension": ".py",
   "mimetype": "text/x-python",
   "name": "python",
   "nbconvert_exporter": "python",
   "pygments_lexer": "ipython3",
   "version": "3.12.7"
  }
 },
 "nbformat": 4,
 "nbformat_minor": 5
}
