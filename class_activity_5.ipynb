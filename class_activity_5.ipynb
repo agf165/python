{
 "cells": [
  {
   "cell_type": "code",
   "execution_count": 17,
   "id": "e7924d09-2df6-4ddc-9c53-6cf88f39ebe5",
   "metadata": {},
   "outputs": [
    {
     "name": "stdout",
     "output_type": "stream",
     "text": [
      "i is 1 k is  1 Results =  1\n",
      "i is 1 k is  2 Results =  2\n",
      "i is 1 k is  3 Results =  3\n",
      "i is 1 k is  4 Results =  4\n",
      "i is 1 k is  5 Results =  5\n",
      "i is 1 k is  6 Results =  6\n",
      "i is 1 k is  7 Results =  7\n",
      "i is 1 k is  8 Results =  8\n",
      "i is 1 k is  9 Results =  9\n",
      "i is 2 k is  1 Results =  2\n",
      "i is 2 k is  2 Results =  4\n",
      "i is 2 k is  3 Results =  6\n",
      "i is 2 k is  4 Results =  8\n",
      "i is 2 k is  5 Results =  10\n",
      "i is 2 k is  6 Results =  12\n",
      "i is 2 k is  7 Results =  14\n",
      "i is 2 k is  8 Results =  16\n",
      "i is 2 k is  9 Results =  18\n",
      "i is 3 k is  1 Results =  3\n",
      "i is 3 k is  2 Results =  6\n",
      "i is 3 k is  3 Results =  9\n",
      "i is 3 k is  4 Results =  12\n",
      "i is 3 k is  5 Results =  15\n",
      "i is 3 k is  6 Results =  18\n",
      "i is 3 k is  7 Results =  21\n",
      "i is 3 k is  8 Results =  24\n",
      "i is 3 k is  9 Results =  27\n",
      "i is 4 k is  1 Results =  4\n",
      "i is 4 k is  2 Results =  8\n",
      "i is 4 k is  3 Results =  12\n",
      "i is 4 k is  4 Results =  16\n",
      "i is 4 k is  5 Results =  20\n",
      "i is 4 k is  6 Results =  24\n",
      "i is 4 k is  7 Results =  28\n",
      "i is 4 k is  8 Results =  32\n",
      "i is 4 k is  9 Results =  36\n"
     ]
    }
   ],
   "source": [
    "for i in range(1,10):\n",
    "    if i == 5:\n",
    "        break\n",
    "        \n",
    "    for k in range(1,10):\n",
    "        print(\"i is\", i, \"k is \", k, \"Results = \", i*k)\n",
    "\n"
   ]
  },
  {
   "cell_type": "code",
   "execution_count": 15,
   "id": "92cbba6a-029a-4dfb-b0ef-1563f9c6c67c",
   "metadata": {},
   "outputs": [
    {
     "name": "stdout",
     "output_type": "stream",
     "text": [
      "i is 1 k is  1 Results =  1\n",
      "i is 1 k is  2 Results =  2\n",
      "i is 1 k is  3 Results =  3\n",
      "i is 1 k is  4 Results =  4\n",
      "i is 1 k is  5 Results =  5\n",
      "i is 1 k is  6 Results =  6\n",
      "i is 1 k is  7 Results =  7\n",
      "i is 1 k is  8 Results =  8\n",
      "i is 1 k is  9 Results =  9\n",
      "i is 2 k is  1 Results =  2\n",
      "i is 2 k is  2 Results =  4\n",
      "i is 2 k is  3 Results =  6\n",
      "i is 2 k is  4 Results =  8\n",
      "i is 2 k is  5 Results =  10\n",
      "i is 2 k is  6 Results =  12\n",
      "i is 2 k is  7 Results =  14\n",
      "i is 2 k is  8 Results =  16\n",
      "i is 2 k is  9 Results =  18\n",
      "i is 3 k is  1 Results =  3\n",
      "i is 3 k is  2 Results =  6\n",
      "i is 3 k is  3 Results =  9\n",
      "i is 3 k is  4 Results =  12\n",
      "i is 3 k is  5 Results =  15\n",
      "i is 3 k is  6 Results =  18\n",
      "i is 3 k is  7 Results =  21\n",
      "i is 3 k is  8 Results =  24\n",
      "i is 3 k is  9 Results =  27\n",
      "i is 4 k is  1 Results =  4\n",
      "i is 4 k is  2 Results =  8\n",
      "i is 4 k is  3 Results =  12\n",
      "i is 4 k is  4 Results =  16\n",
      "i is 4 k is  5 Results =  20\n",
      "i is 4 k is  6 Results =  24\n",
      "i is 4 k is  7 Results =  28\n",
      "i is 4 k is  8 Results =  32\n",
      "i is 4 k is  9 Results =  36\n",
      "i is 5 k is  1 Results =  5\n",
      "i is 5 k is  2 Results =  10\n",
      "i is 5 k is  3 Results =  15\n",
      "i is 5 k is  4 Results =  20\n",
      "i is 5 k is  5 Results =  25\n",
      "i is 5 k is  6 Results =  30\n",
      "i is 5 k is  7 Results =  35\n",
      "i is 5 k is  8 Results =  40\n",
      "i is 5 k is  9 Results =  45\n"
     ]
    }
   ],
   "source": [
    "for i in range(1,10):\n",
    "        \n",
    "    for k in range(1,10):\n",
    "        print(\"i is\", i, \"k is \", k, \"Results = \", i*k)\n",
    "\n",
    "    if i == 5:\n",
    "        break"
   ]
  },
  {
   "cell_type": "code",
   "execution_count": 19,
   "id": "e617de52-522e-422e-a639-2c9a57b4848c",
   "metadata": {},
   "outputs": [
    {
     "name": "stdout",
     "output_type": "stream",
     "text": [
      "99\n"
     ]
    }
   ],
   "source": [
    "def spam():\n",
    "    eggs = 99\n",
    "    bacon()\n",
    "\n",
    "    print(eggs)\n",
    "\n",
    "def bacon():\n",
    "    ham = 101\n",
    "    eggs = 0\n",
    "\n",
    "spam()\n"
   ]
  },
  {
   "cell_type": "code",
   "execution_count": 25,
   "id": "3703a490-73a1-4f20-9798-ee451eee6aec",
   "metadata": {},
   "outputs": [
    {
     "name": "stdout",
     "output_type": "stream",
     "text": [
      "20\n",
      "10\n"
     ]
    }
   ],
   "source": [
    "def spam():\n",
    "    eggs = 20\n",
    "    print(eggs)\n",
    "\n",
    "eggs = 42\n",
    "spam()\n",
    "\n",
    "eggs = 10\n",
    "print(eggs)"
   ]
  },
  {
   "cell_type": "code",
   "execution_count": 31,
   "id": "61343d58-abd9-4e2c-ac2a-6df766c537c2",
   "metadata": {},
   "outputs": [
    {
     "name": "stdout",
     "output_type": "stream",
     "text": [
      "21.0\n",
      "3.5\n",
      "Error You cannot divide soomething by zero\n",
      "0\n",
      "42.0\n"
     ]
    }
   ],
   "source": [
    "def spam(num):\n",
    "    result = 0 \n",
    "    try:\n",
    "        result = 42/num\n",
    "    except:\n",
    "        print(\"Error\", \"You cannot divide soomething by zero\")\n",
    "    return result\n",
    "\n",
    "print(spam(2))\n",
    "print(spam(12))\n",
    "print(spam(0))\n",
    "print(spam(1))"
   ]
  },
  {
   "cell_type": "code",
   "execution_count": 41,
   "id": "5b739cdd-4dae-48c9-b2ba-da2ce48316a5",
   "metadata": {},
   "outputs": [
    {
     "name": "stdin",
     "output_type": "stream",
     "text": [
      "Enter one integer whatever you want 100\n"
     ]
    },
    {
     "name": "stdout",
     "output_type": "stream",
     "text": [
      "50\n",
      "25\n",
      "76\n",
      "38\n",
      "19\n",
      "58\n",
      "29\n",
      "88\n",
      "44\n",
      "22\n",
      "11\n",
      "34\n",
      "17\n",
      "52\n",
      "26\n",
      "13\n",
      "40\n",
      "20\n",
      "10\n",
      "5\n",
      "16\n",
      "8\n",
      "4\n",
      "2\n",
      "1\n"
     ]
    }
   ],
   "source": [
    "def collatz(num):\n",
    "    if num % 2 == 0:\n",
    "        result = num//2\n",
    "    else:\n",
    "        result = (3*num) + 1\n",
    "    print(result)\n",
    "    return result\n",
    "try:\n",
    "    num = int(input(\"Enter one integer whatever you want\"))\n",
    "    while num != 1:\n",
    "        num = collatz(num)\n",
    "except:\n",
    "    print(\"Invalid Value\")"
   ]
  },
  {
   "cell_type": "code",
   "execution_count": null,
   "id": "ca258852-034e-4d1e-a4e8-c2dcf754a10f",
   "metadata": {},
   "outputs": [],
   "source": []
  }
 ],
 "metadata": {
  "kernelspec": {
   "display_name": "Python [conda env:base] *",
   "language": "python",
   "name": "conda-base-py"
  },
  "language_info": {
   "codemirror_mode": {
    "name": "ipython",
    "version": 3
   },
   "file_extension": ".py",
   "mimetype": "text/x-python",
   "name": "python",
   "nbconvert_exporter": "python",
   "pygments_lexer": "ipython3",
   "version": "3.12.7"
  }
 },
 "nbformat": 4,
 "nbformat_minor": 5
}
