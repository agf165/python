{
 "cells": [
  {
   "cell_type": "code",
   "execution_count": 5,
   "id": "db488e54-d9c8-4778-bbb6-b021404e9976",
   "metadata": {},
   "outputs": [
    {
     "name": "stdout",
     "output_type": "stream",
     "text": [
      "0\n",
      "1\n",
      "2\n",
      "3\n",
      "4\n",
      "5\n",
      "6\n",
      "7\n",
      "8\n",
      "9\n"
     ]
    }
   ],
   "source": [
    "for i in range(10):\n",
    "    print(i)\n"
   ]
  },
  {
   "cell_type": "code",
   "execution_count": 7,
   "id": "a1b7f71f-8ad3-4365-82a6-22092cfc2ac3",
   "metadata": {},
   "outputs": [
    {
     "name": "stdout",
     "output_type": "stream",
     "text": [
      "0\n",
      "2\n",
      "4\n",
      "6\n",
      "8\n"
     ]
    }
   ],
   "source": [
    "for i in range(0, 10, 2):\n",
    "    print(i)\n"
   ]
  },
  {
   "cell_type": "code",
   "execution_count": 17,
   "id": "b56019cd-cfcb-458c-a828-42ba48629d74",
   "metadata": {},
   "outputs": [
    {
     "name": "stdout",
     "output_type": "stream",
     "text": [
      "8\n",
      "8\n",
      "7\n",
      "3\n",
      "9\n"
     ]
    }
   ],
   "source": [
    "import random\n",
    "for i in range(5):\n",
    "    print(random.randint(1,10))"
   ]
  },
  {
   "cell_type": "code",
   "execution_count": 19,
   "id": "986fab66-9f0e-404f-9451-b4a3c43c4843",
   "metadata": {},
   "outputs": [
    {
     "name": "stderr",
     "output_type": "stream",
     "text": [
      "ERROR: Could not find a version that satisfies the requirement random (from versions: none)\n",
      "ERROR: No matching distribution found for random\n"
     ]
    }
   ],
   "source": [
    "!pip install random"
   ]
  },
  {
   "cell_type": "code",
   "execution_count": 21,
   "id": "35dfbf9a-639f-408c-b9a6-23be4e51694f",
   "metadata": {},
   "outputs": [],
   "source": [
    "import random"
   ]
  },
  {
   "cell_type": "code",
   "execution_count": 23,
   "id": "3574834d-939e-4205-9745-0e1ca63e6029",
   "metadata": {},
   "outputs": [
    {
     "name": "stdout",
     "output_type": "stream",
     "text": [
      "I am thinking of a number between 1 and 40\n"
     ]
    }
   ],
   "source": [
    "guessnumber = random.randint(1,40)\n",
    "print('I am thinking of a number between 1 and 40')\n"
   ]
  },
  {
   "cell_type": "code",
   "execution_count": 31,
   "id": "3a1b33ad-c8f8-4398-9ad9-6c14df3353e1",
   "metadata": {},
   "outputs": [
    {
     "name": "stdout",
     "output_type": "stream",
     "text": [
      "Take a guess\n"
     ]
    },
    {
     "name": "stdin",
     "output_type": "stream",
     "text": [
      " 34\n"
     ]
    },
    {
     "name": "stdout",
     "output_type": "stream",
     "text": [
      "You guessed my number in 0 guesses!\n"
     ]
    }
   ],
   "source": [
    "for i in range(10):\n",
    "    print('Take a guess')\n",
    "    yourguess = int(input())\n",
    "\n",
    "    if yourguess < guessnumber:\n",
    "        print('yourguess is too low')\n",
    "    elif yourguess > guessnumber:\n",
    "        print('Your guess is too high')\n",
    "    else:\n",
    "        break\n",
    "\n",
    "if yourguess == guessnumber:\n",
    "    print('You guessed my number in ' + str(i) + ' guesses!')\n",
    "else:\n",
    "    print('No'+'The number I was thinking of was' + str(guessnumber))"
   ]
  },
  {
   "cell_type": "code",
   "execution_count": null,
   "id": "aaf8cd92-e436-4318-885d-47858c07f14c",
   "metadata": {},
   "outputs": [],
   "source": []
  }
 ],
 "metadata": {
  "kernelspec": {
   "display_name": "Python [conda env:base] *",
   "language": "python",
   "name": "conda-base-py"
  },
  "language_info": {
   "codemirror_mode": {
    "name": "ipython",
    "version": 3
   },
   "file_extension": ".py",
   "mimetype": "text/x-python",
   "name": "python",
   "nbconvert_exporter": "python",
   "pygments_lexer": "ipython3",
   "version": "3.12.7"
  }
 },
 "nbformat": 4,
 "nbformat_minor": 5
}
