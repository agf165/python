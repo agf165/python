{
 "cells": [
  {
   "cell_type": "code",
   "execution_count": 1,
   "id": "72593c03-10d6-43c8-b722-89b054cdaf19",
   "metadata": {},
   "outputs": [
    {
     "data": {
      "text/plain": [
       "2"
      ]
     },
     "execution_count": 1,
     "metadata": {},
     "output_type": "execute_result"
    }
   ],
   "source": [
    "2"
   ]
  },
  {
   "cell_type": "code",
   "execution_count": 3,
   "id": "792b4d8f-0417-432b-96ca-dd4ea6d938b5",
   "metadata": {},
   "outputs": [
    {
     "data": {
      "text/plain": [
       "'jang'"
      ]
     },
     "execution_count": 3,
     "metadata": {},
     "output_type": "execute_result"
    }
   ],
   "source": [
    "\"jang\""
   ]
  },
  {
   "cell_type": "code",
   "execution_count": 5,
   "id": "c7bfc05d-bbfc-48fb-a852-c220265ac9d2",
   "metadata": {},
   "outputs": [
    {
     "name": "stdout",
     "output_type": "stream",
     "text": [
      "4\n",
      "4\n",
      "4\n",
      "1.0\n",
      "0\n",
      "-5\n"
     ]
    }
   ],
   "source": [
    "print (2+2)\n",
    "print (2*2)\n",
    "print (2**2)\n",
    "print (2/2)\n",
    "print (3//9)\n",
    "print (5-10)"
   ]
  },
  {
   "cell_type": "code",
   "execution_count": 11,
   "id": "039e4f4e-9125-43d8-8f27-604421fef217",
   "metadata": {},
   "outputs": [
    {
     "ename": "SyntaxError",
     "evalue": "cannot assign to function call here. Maybe you meant '==' instead of '='? (2194145042.py, line 1)",
     "output_type": "error",
     "traceback": [
      "\u001b[1;36m  Cell \u001b[1;32mIn[11], line 1\u001b[1;36m\u001b[0m\n\u001b[1;33m    str(python)= 1\u001b[0m\n\u001b[1;37m    ^\u001b[0m\n\u001b[1;31mSyntaxError\u001b[0m\u001b[1;31m:\u001b[0m cannot assign to function call here. Maybe you meant '==' instead of '='?\n"
     ]
    }
   ],
   "source": [
    "python= input (1)"
   ]
  },
  {
   "cell_type": "code",
   "execution_count": 7,
   "id": "65164877-031c-498a-bce7-80446270b3a7",
   "metadata": {},
   "outputs": [
    {
     "ename": "NameError",
     "evalue": "name 'python' is not defined",
     "output_type": "error",
     "traceback": [
      "\u001b[1;31m---------------------------------------------------------------------------\u001b[0m",
      "\u001b[1;31mNameError\u001b[0m                                 Traceback (most recent call last)",
      "Cell \u001b[1;32mIn[7], line 1\u001b[0m\n\u001b[1;32m----> 1\u001b[0m python \u001b[38;5;241m+\u001b[39m \u001b[38;5;28mint\u001b[39m(\u001b[38;5;124m'\u001b[39m\u001b[38;5;124m1\u001b[39m\u001b[38;5;124m'\u001b[39m)\n",
      "\u001b[1;31mNameError\u001b[0m: name 'python' is not defined"
     ]
    }
   ],
   "source": [
    "python + int('1')"
   ]
  },
  {
   "cell_type": "code",
   "execution_count": null,
   "id": "516328bf-6f76-4eea-a6c4-6c130cdf44bb",
   "metadata": {},
   "outputs": [
    {
     "name": "stdout",
     "output_type": "stream",
     "text": [
      "Hello, World !\n",
      "what is your name?\n"
     ]
    }
   ],
   "source": [
    "print (\"Hello, World !\")\n",
    "print ('what is your name?')\n",
    "myname = input()\n",
    "print (\"it is good to meet you, \" + myname)"
   ]
  },
  {
   "cell_type": "code",
   "execution_count": null,
   "id": "133580a8-e2e7-412e-8fdc-bb57f7cb2305",
   "metadata": {},
   "outputs": [],
   "source": []
  },
  {
   "cell_type": "code",
   "execution_count": null,
   "id": "e1576b7b-fa24-4182-b269-b7f03f1b1672",
   "metadata": {},
   "outputs": [],
   "source": []
  },
  {
   "cell_type": "code",
   "execution_count": null,
   "id": "9dc2cfa0-9f87-46d2-9171-55f9d364ad5e",
   "metadata": {},
   "outputs": [],
   "source": []
  },
  {
   "cell_type": "code",
   "execution_count": null,
   "id": "68327c97-2871-46e9-8ae9-d7ba6f1d574a",
   "metadata": {},
   "outputs": [],
   "source": []
  },
  {
   "cell_type": "code",
   "execution_count": null,
   "id": "98e79939-e671-433f-a03a-68ec882cee0f",
   "metadata": {},
   "outputs": [],
   "source": []
  },
  {
   "cell_type": "code",
   "execution_count": null,
   "id": "efb9e280-4cb6-4c77-b8c7-129d7584f1c2",
   "metadata": {},
   "outputs": [],
   "source": []
  },
  {
   "cell_type": "code",
   "execution_count": null,
   "id": "8e10d4c8-9190-4701-ba22-a702f529560f",
   "metadata": {},
   "outputs": [],
   "source": []
  },
  {
   "cell_type": "code",
   "execution_count": null,
   "id": "79f6e8c6-9714-43a4-8d02-2939b1b2e2d8",
   "metadata": {},
   "outputs": [],
   "source": []
  },
  {
   "cell_type": "code",
   "execution_count": null,
   "id": "75251a16-8c2c-4238-a16e-69ded2b5b26c",
   "metadata": {},
   "outputs": [],
   "source": []
  }
 ],
 "metadata": {
  "kernelspec": {
   "display_name": "Python [conda env:base] *",
   "language": "python",
   "name": "conda-base-py"
  },
  "language_info": {
   "codemirror_mode": {
    "name": "ipython",
    "version": 3
   },
   "file_extension": ".py",
   "mimetype": "text/x-python",
   "name": "python",
   "nbconvert_exporter": "python",
   "pygments_lexer": "ipython3",
   "version": "3.12.7"
  }
 },
 "nbformat": 4,
 "nbformat_minor": 5
}
